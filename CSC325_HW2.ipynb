{
  "cells": [
    {
      "cell_type": "markdown",
      "id": "c2cfe97c",
      "metadata": {
        "id": "c2cfe97c"
      },
      "source": [
        "# CSC 325 Introduction to Machine Learning Homework 2 Programming Question\n",
        "\n",
        "## Linear Models - Linear Regression\n",
        "\n",
        "**Instructor:** Dr. Junxiu Zhou\n",
        "\n",
        "Note that, This is an Jupyter Notebook. When you execute code within the notebook, the results appear beneath the code.\n",
        "\n",
        "Try executing this notebook cell-by-cell by clicking the Run button or by placing your cursor inside it and pressing Shift+Enter."
      ]
    },
    {
      "cell_type": "markdown",
      "id": "f41864bb",
      "metadata": {
        "id": "f41864bb"
      },
      "source": [
        "**In general a basic machine learning program contains five steps:**\n",
        "\n",
        "0. Import Basic Libraries, such as numpy and matplotlib -- usually one notebook only needs one time import statements\n",
        "1. Get your data ready\n",
        "    - Visualize them if you can, put them in the format of X_train, y_train.\n",
        "    - Each row represents one training sample, each column represents one feature.\n",
        "2. Build Machine Learning model\n",
        "    - Import related model from sklearn library;\n",
        "    - create an instance of that model;\n",
        "    - fit the training data (X_train, y_train) to the instance to train the model.\n",
        "3. Model performance check\n",
        "    - Check how good/bad the model performs on the training data.\n",
        "4. Use the model\n",
        "    - Use the model on unseen test data, i.e., X_test, to get the y_test result.\n"
      ]
    },
    {
      "cell_type": "markdown",
      "id": "031bfbc1",
      "metadata": {
        "id": "031bfbc1"
      },
      "source": [
        "# Linear Regression Assignment\n",
        "\n",
        "It is found that the systolic pressure is linked to the weight and the age. In this assignment, we want to explore the relationship between the weight, age and the systolic pressure. We are given the following training dataset and test dataset.\n",
        "Please use the learned linear regression model to train a model and get the trained model parameters. Then use the trained model to predict the pressure values of the test set.\n",
        "Please also compute the model perfomance on both the training and test sets regarding to MSE.\n",
        "\n",
        "Training set values:\n",
        "\n",
        "weight=[76.0,91.5,85.5,82.5,79.0,80.5,74.5,79.0,85.0,76.5]\n",
        "\n",
        "age=[50,20,20,30,30,50,60,50,40,55]\n",
        "\n",
        "pressure=[120,141,124,126,117,125,123,125,132,123]\n",
        "\n",
        "\n",
        "test set values:\n",
        "\n",
        "weight=[82.0,95.0,92.5]\n",
        "\n",
        "age=[40,40,20]\n",
        "\n",
        "pressure=[132,155,147]"
      ]
    },
    {
      "cell_type": "markdown",
      "id": "e1726ea4",
      "metadata": {
        "id": "e1726ea4"
      },
      "source": [
        "**1 Get your data ready**"
      ]
    },
    {
      "cell_type": "code",
      "execution_count": 147,
      "id": "9c815d22",
      "metadata": {
        "id": "9c815d22"
      },
      "outputs": [],
      "source": [
        "import numpy as np\n",
        "import pandas as pd\n",
        "import matplotlib.pyplot as plt"
      ]
    },
    {
      "cell_type": "code",
      "execution_count": 148,
      "id": "3615a889",
      "metadata": {
        "id": "3615a889"
      },
      "outputs": [],
      "source": [
        "data = {'weight': [76.0,91.5,85.5,82.5,79.0,80.5,74.5,79.0,85.0,76.5],\n",
        "        'age': [50,20,20,30,30,50,60,50,40,55],\n",
        "        'pressure': [120,141,124,126,117,125,123,125,132,123]}\n",
        "df = pd.DataFrame(data)\n",
        "X_train = df[['weight','age']]\n",
        "y_train = df[['pressure']]"
      ]
    },
    {
      "cell_type": "code",
      "execution_count": 149,
      "id": "9db73822",
      "metadata": {
        "id": "9db73822",
        "colab": {
          "base_uri": "https://localhost:8080/",
          "height": 465
        },
        "outputId": "518688f0-4603-4bf5-a9d7-b425acb48d68"
      },
      "outputs": [
        {
          "output_type": "execute_result",
          "data": {
            "text/plain": [
              "[<matplotlib.lines.Line2D at 0x7fae96556b90>,\n",
              " <matplotlib.lines.Line2D at 0x7fae96556cb0>]"
            ]
          },
          "metadata": {},
          "execution_count": 149
        },
        {
          "output_type": "display_data",
          "data": {
            "text/plain": [
              "<Figure size 640x480 with 1 Axes>"
            ],
            "image/png": "[encoded data removed]"
          },
          "metadata": {}
        }
      ],
      "source": [
        "plt.plot(X_train,y_train,'+')"
      ]
    },
    {
      "cell_type": "markdown",
      "id": "7968eec6",
      "metadata": {
        "id": "7968eec6"
      },
      "source": [
        "**2 Build/Train the machine learning model**"
      ]
    },
    {
      "cell_type": "code",
      "execution_count": 150,
      "id": "085d69b4",
      "metadata": {
        "id": "085d69b4"
      },
      "outputs": [],
      "source": [
        "from sklearn.linear_model import LinearRegression"
      ]
    },
    {
      "cell_type": "code",
      "execution_count": 151,
      "id": "de3d66ad",
      "metadata": {
        "id": "de3d66ad"
      },
      "outputs": [],
      "source": [
        "lreg = LinearRegression()"
      ]
    },
    {
      "cell_type": "code",
      "execution_count": 152,
      "id": "35c4bd1f",
      "metadata": {
        "id": "35c4bd1f",
        "colab": {
          "base_uri": "https://localhost:8080/",
          "height": 75
        },
        "outputId": "f40f05bb-5d77-45e9-af85-f8e7b6d58398"
      },
      "outputs": [
        {
          "output_type": "execute_result",
          "data": {
            "text/plain": [
              "LinearRegression()"
            ],
            "text/html": [
              "<style>#sk-container-id-11 {color: black;background-color: white;}#sk-container-id-11 pre{padding: 0;}#sk-container-id-11 div.sk-toggleable {background-color: white;}#sk-container-id-11 label.sk-toggleable__label {cursor: pointer;display: block;width: 100%;margin-bottom: 0;padding: 0.3em;box-sizing: border-box;text-align: center;}#sk-container-id-11 label.sk-toggleable__label-arrow:before {content: \"▸\";float: left;margin-right: 0.25em;color: #696969;}#sk-container-id-11 label.sk-toggleable__label-arrow:hover:before {color: black;}#sk-container-id-11 div.sk-estimator:hover label.sk-toggleable__label-arrow:before {color: black;}#sk-container-id-11 div.sk-toggleable__content {max-height: 0;max-width: 0;overflow: hidden;text-align: left;background-color: #f0f8ff;}#sk-container-id-11 div.sk-toggleable__content pre {margin: 0.2em;color: black;border-radius: 0.25em;background-color: #f0f8ff;}#sk-container-id-11 input.sk-toggleable__control:checked~div.sk-toggleable__content {max-height: 200px;max-width: 100%;overflow: auto;}#sk-container-id-11 input.sk-toggleable__control:checked~label.sk-toggleable__label-arrow:before {content: \"▾\";}#sk-container-id-11 div.sk-estimator input.sk-toggleable__control:checked~label.sk-toggleable__label {background-color: #d4ebff;}#sk-container-id-11 div.sk-label input.sk-toggleable__control:checked~label.sk-toggleable__label {background-color: #d4ebff;}#sk-container-id-11 input.sk-hidden--visually {border: 0;clip: rect(1px 1px 1px 1px);clip: rect(1px, 1px, 1px, 1px);height: 1px;margin: -1px;overflow: hidden;padding: 0;position: absolute;width: 1px;}#sk-container-id-11 div.sk-estimator {font-family: monospace;background-color: #f0f8ff;border: 1px dotted black;border-radius: 0.25em;box-sizing: border-box;margin-bottom: 0.5em;}#sk-container-id-11 div.sk-estimator:hover {background-color: #d4ebff;}#sk-container-id-11 div.sk-parallel-item::after {content: \"\";width: 100%;border-bottom: 1px solid gray;flex-grow: 1;}#sk-container-id-11 div.sk-label:hover label.sk-toggleable__label {background-color: #d4ebff;}#sk-container-id-11 div.sk-serial::before {content: \"\";position: absolute;border-left: 1px solid gray;box-sizing: border-box;top: 0;bottom: 0;left: 50%;z-index: 0;}#sk-container-id-11 div.sk-serial {display: flex;flex-direction: column;align-items: center;background-color: white;padding-right: 0.2em;padding-left: 0.2em;position: relative;}#sk-container-id-11 div.sk-item {position: relative;z-index: 1;}#sk-container-id-11 div.sk-parallel {display: flex;align-items: stretch;justify-content: center;background-color: white;position: relative;}#sk-container-id-11 div.sk-item::before, #sk-container-id-11 div.sk-parallel-item::before {content: \"\";position: absolute;border-left: 1px solid gray;box-sizing: border-box;top: 0;bottom: 0;left: 50%;z-index: -1;}#sk-container-id-11 div.sk-parallel-item {display: flex;flex-direction: column;z-index: 1;position: relative;background-color: white;}#sk-container-id-11 div.sk-parallel-item:first-child::after {align-self: flex-end;width: 50%;}#sk-container-id-11 div.sk-parallel-item:last-child::after {align-self: flex-start;width: 50%;}#sk-container-id-11 div.sk-parallel-item:only-child::after {width: 0;}#sk-container-id-11 div.sk-dashed-wrapped {border: 1px dashed gray;margin: 0 0.4em 0.5em 0.4em;box-sizing: border-box;padding-bottom: 0.4em;background-color: white;}#sk-container-id-11 div.sk-label label {font-family: monospace;font-weight: bold;display: inline-block;line-height: 1.2em;}#sk-container-id-11 div.sk-label-container {text-align: center;}#sk-container-id-11 div.sk-container {/* jupyter's `normalize.less` sets `[hidden] { display: none; }` but bootstrap.min.css set `[hidden] { display: none !important; }` so we also need the `!important` here to be able to override the default hidden behavior on the sphinx rendered scikit-learn.org. See: https://github.com/scikit-learn/scikit-learn/issues/21755 */display: inline-block !important;position: relative;}#sk-container-id-11 div.sk-text-repr-fallback {display: none;}</style><div id=\"sk-container-id-11\" class=\"sk-top-container\"><div class=\"sk-text-repr-fallback\"><pre>LinearRegression()</pre><b>In a Jupyter environment, please rerun this cell to show the HTML representation or trust the notebook. <br />On GitHub, the HTML representation is unable to render, please try loading this page with nbviewer.org.</b></div><div class=\"sk-container\" hidden><div class=\"sk-item\"><div class=\"sk-estimator sk-toggleable\"><input class=\"sk-toggleable__control sk-hidden--visually\" id=\"sk-estimator-id-11\" type=\"checkbox\" checked><label for=\"sk-estimator-id-11\" class=\"sk-toggleable__label sk-toggleable__label-arrow\">LinearRegression</label><div class=\"sk-toggleable__content\"><pre>LinearRegression()</pre></div></div></div></div></div>"
            ]
          },
          "metadata": {},
          "execution_count": 152
        }
      ],
      "source": [
        "lreg.fit(X_train, y_train)"
      ]
    },
    {
      "cell_type": "markdown",
      "id": "ffa4a824",
      "metadata": {
        "id": "ffa4a824"
      },
      "source": [
        "**3 Model performance check on training set**"
      ]
    },
    {
      "cell_type": "code",
      "execution_count": 153,
      "id": "736ef8c4",
      "metadata": {
        "id": "736ef8c4"
      },
      "outputs": [],
      "source": [
        "from sklearn.metrics import mean_squared_error"
      ]
    },
    {
      "cell_type": "code",
      "execution_count": 154,
      "id": "9f416d3f",
      "metadata": {
        "id": "9f416d3f"
      },
      "outputs": [],
      "source": [
        "train_mse = mean_squared_error(y_train, lreg.predict(X_train))"
      ]
    },
    {
      "cell_type": "code",
      "execution_count": 155,
      "id": "9e8bc3cd",
      "metadata": {
        "id": "9e8bc3cd",
        "colab": {
          "base_uri": "https://localhost:8080/"
        },
        "outputId": "417be101-2af2-4914-ac91-f11341ae4a2f"
      },
      "outputs": [
        {
          "output_type": "stream",
          "name": "stdout",
          "text": [
            "Training MSE: 3.625134295077534\n"
          ]
        }
      ],
      "source": [
        "print(\"Training MSE:\", train_mse)"
      ]
    },
    {
      "cell_type": "markdown",
      "id": "13c61900",
      "metadata": {
        "id": "13c61900"
      },
      "source": [
        "**4 Use the trained model to perdict on test set**"
      ]
    },
    {
      "cell_type": "code",
      "execution_count": 156,
      "id": "829db274",
      "metadata": {
        "id": "829db274"
      },
      "outputs": [],
      "source": [
        "test_data = {'weight': [82.0,95.0,92.5],\n",
        "        'age': [40,40,20],\n",
        "        'pressure': [132,155,147]}\n",
        "test_df = pd.DataFrame(test_data)\n",
        "X_test = test_df[['weight','age']]\n",
        "y_test = test_df[['pressure']]"
      ]
    },
    {
      "cell_type": "code",
      "execution_count": 157,
      "id": "6a04af2d",
      "metadata": {
        "id": "6a04af2d"
      },
      "outputs": [],
      "source": [
        "y_test_pred = lreg.predict(X_test)"
      ]
    },
    {
      "cell_type": "code",
      "execution_count": 158,
      "id": "d464c5f3",
      "metadata": {
        "id": "d464c5f3",
        "colab": {
          "base_uri": "https://localhost:8080/"
        },
        "outputId": "92f8d427-2808-4314-d05e-6c1ca61fc3c1"
      },
      "outputs": [
        {
          "output_type": "stream",
          "name": "stdout",
          "text": [
            "If your weight and age are \n",
            "   weight  age\n",
            "0    82.0   40\n",
            "1    95.0   40\n",
            "2    92.5   20\n",
            " you will have \n",
            "[[127.37267306]\n",
            " [153.00747491]\n",
            " [140.10831447]]\n",
            " systolic pressure.\n"
          ]
        }
      ],
      "source": [
        "print('If your weight and age are \\n{}\\n you will have \\n{}\\n systolic pressure.'\n",
        "      .format(X_test, y_test_pred))"
      ]
    },
    {
      "cell_type": "markdown",
      "id": "5e9844f0",
      "metadata": {
        "id": "5e9844f0"
      },
      "source": [
        "Model performance check on test set"
      ]
    },
    {
      "cell_type": "code",
      "execution_count": 159,
      "id": "ab8c0120",
      "metadata": {
        "id": "ab8c0120"
      },
      "outputs": [],
      "source": [
        "test_mse = mean_squared_error(y_test, lreg.predict(X_test))"
      ]
    },
    {
      "cell_type": "code",
      "execution_count": 160,
      "id": "97f11b0a",
      "metadata": {
        "id": "97f11b0a",
        "colab": {
          "base_uri": "https://localhost:8080/"
        },
        "outputId": "4a1e8e95-93c6-4fa7-9f6b-23ea078c13dc"
      },
      "outputs": [
        {
          "output_type": "stream",
          "name": "stdout",
          "text": [
            "Testing MSE: 24.29254674604716\n"
          ]
        }
      ],
      "source": [
        "print(\"Testing MSE:\", test_mse)"
      ]
    }
  ],
  "metadata": {
    "kernelspec": {
      "display_name": "Python 3 (ipykernel)",
      "language": "python",
      "name": "python3"
    },
    "language_info": {
      "codemirror_mode": {
        "name": "ipython",
        "version": 3
      },
      "file_extension": ".py",
      "mimetype": "text/x-python",
      "name": "python",
      "nbconvert_exporter": "python",
      "pygments_lexer": "ipython3",
      "version": "3.7.12"
    },
    "colab": {
      "provenance": []
    }
  },
  "nbformat": 4,
  "nbformat_minor": 5
}